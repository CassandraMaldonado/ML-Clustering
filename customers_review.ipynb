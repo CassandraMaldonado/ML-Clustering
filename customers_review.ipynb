{
 "cells": [
  {
   "cell_type": "code",
   "execution_count": 12,
   "metadata": {},
   "outputs": [],
   "source": [
    "import pandas as pd\n",
    "\n",
    "df = pd.read_csv(\"data/customer_data_cat.csv\")"
   ]
  },
  {
   "cell_type": "code",
   "execution_count": 2,
   "metadata": {},
   "outputs": [
    {
     "name": "stdout",
     "output_type": "stream",
     "text": [
      "First few rows of the dataset:\n",
      "   Respondent_ID      Gender Age_Group Product_Preference Satisfaction_Level\n",
      "0              1      Female     18-25          Product A          Satisfied\n",
      "1              2        Male     26-35          Product B     Very Satisfied\n",
      "2              3  Non-Binary     18-25          Product A          Satisfied\n",
      "3              4      Female     36-45          Product C            Neutral\n",
      "4              5        Male     26-35          Product B        Unsatisfied\n",
      "\n",
      "Dataset Info:\n",
      "<class 'pandas.core.frame.DataFrame'>\n",
      "RangeIndex: 10 entries, 0 to 9\n",
      "Data columns (total 5 columns):\n",
      " #   Column              Non-Null Count  Dtype \n",
      "---  ------              --------------  ----- \n",
      " 0   Respondent_ID       10 non-null     int64 \n",
      " 1   Gender              10 non-null     object\n",
      " 2   Age_Group           10 non-null     object\n",
      " 3   Product_Preference  10 non-null     object\n",
      " 4   Satisfaction_Level  10 non-null     object\n",
      "dtypes: int64(1), object(4)\n",
      "memory usage: 532.0+ bytes\n",
      "None\n"
     ]
    }
   ],
   "source": [
    "print(\"First few rows of the dataset:\")\n",
    "print(df.head())\n",
    "print(\"\\nDataset Info:\")\n",
    "print(df.info())"
   ]
  },
  {
   "cell_type": "code",
   "execution_count": 4,
   "metadata": {},
   "outputs": [
    {
     "data": {
      "text/html": [
       "<div>\n",
       "<style scoped>\n",
       "    .dataframe tbody tr th:only-of-type {\n",
       "        vertical-align: middle;\n",
       "    }\n",
       "\n",
       "    .dataframe tbody tr th {\n",
       "        vertical-align: top;\n",
       "    }\n",
       "\n",
       "    .dataframe thead th {\n",
       "        text-align: right;\n",
       "    }\n",
       "</style>\n",
       "<table border=\"1\" class=\"dataframe\">\n",
       "  <thead>\n",
       "    <tr style=\"text-align: right;\">\n",
       "      <th></th>\n",
       "      <th>Respondent_ID</th>\n",
       "    </tr>\n",
       "  </thead>\n",
       "  <tbody>\n",
       "    <tr>\n",
       "      <th>count</th>\n",
       "      <td>10.00000</td>\n",
       "    </tr>\n",
       "    <tr>\n",
       "      <th>mean</th>\n",
       "      <td>5.50000</td>\n",
       "    </tr>\n",
       "    <tr>\n",
       "      <th>std</th>\n",
       "      <td>3.02765</td>\n",
       "    </tr>\n",
       "    <tr>\n",
       "      <th>min</th>\n",
       "      <td>1.00000</td>\n",
       "    </tr>\n",
       "    <tr>\n",
       "      <th>25%</th>\n",
       "      <td>3.25000</td>\n",
       "    </tr>\n",
       "    <tr>\n",
       "      <th>50%</th>\n",
       "      <td>5.50000</td>\n",
       "    </tr>\n",
       "    <tr>\n",
       "      <th>75%</th>\n",
       "      <td>7.75000</td>\n",
       "    </tr>\n",
       "    <tr>\n",
       "      <th>max</th>\n",
       "      <td>10.00000</td>\n",
       "    </tr>\n",
       "  </tbody>\n",
       "</table>\n",
       "</div>"
      ],
      "text/plain": [
       "       Respondent_ID\n",
       "count       10.00000\n",
       "mean         5.50000\n",
       "std          3.02765\n",
       "min          1.00000\n",
       "25%          3.25000\n",
       "50%          5.50000\n",
       "75%          7.75000\n",
       "max         10.00000"
      ]
     },
     "execution_count": 4,
     "metadata": {},
     "output_type": "execute_result"
    }
   ],
   "source": [
    "df.describe()"
   ]
  },
  {
   "cell_type": "code",
   "execution_count": 5,
   "metadata": {},
   "outputs": [
    {
     "data": {
      "text/plain": [
       "Respondent_ID  Gender      Age_Group  Product_Preference  Satisfaction_Level\n",
       "1              Female      18-25      Product A           Satisfied             1\n",
       "2              Male        26-35      Product B           Very Satisfied        1\n",
       "3              Non-Binary  18-25      Product A           Satisfied             1\n",
       "4              Female      36-45      Product C           Neutral               1\n",
       "5              Male        26-35      Product B           Unsatisfied           1\n",
       "6              Female      18-25      Product A           Satisfied             1\n",
       "7              Male        46-55      Product C           Neutral               1\n",
       "8              Female      26-35      Product B           Very Satisfied        1\n",
       "9              Male        36-45      Product C           Satisfied             1\n",
       "10             Female      46-55      Product A           Unsatisfied           1\n",
       "Name: count, dtype: int64"
      ]
     },
     "execution_count": 5,
     "metadata": {},
     "output_type": "execute_result"
    }
   ],
   "source": [
    "df.value_counts()"
   ]
  },
  {
   "cell_type": "code",
   "execution_count": 4,
   "metadata": {},
   "outputs": [
    {
     "name": "stdout",
     "output_type": "stream",
     "text": [
      "Collecting kmodes\n",
      "  Downloading kmodes-0.12.2-py2.py3-none-any.whl.metadata (8.1 kB)\n",
      "Requirement already satisfied: numpy>=1.10.4 in /opt/anaconda3/lib/python3.12/site-packages (from kmodes) (1.26.4)\n",
      "Requirement already satisfied: scikit-learn>=0.22.0 in /opt/anaconda3/lib/python3.12/site-packages (from kmodes) (1.5.1)\n",
      "Requirement already satisfied: scipy>=0.13.3 in /opt/anaconda3/lib/python3.12/site-packages (from kmodes) (1.13.1)\n",
      "Requirement already satisfied: joblib>=0.11 in /opt/anaconda3/lib/python3.12/site-packages (from kmodes) (1.4.2)\n",
      "Requirement already satisfied: threadpoolctl>=3.1.0 in /opt/anaconda3/lib/python3.12/site-packages (from scikit-learn>=0.22.0->kmodes) (3.5.0)\n",
      "Downloading kmodes-0.12.2-py2.py3-none-any.whl (20 kB)\n",
      "Installing collected packages: kmodes\n",
      "Successfully installed kmodes-0.12.2\n",
      "Note: you may need to restart the kernel to use updated packages.\n"
     ]
    }
   ],
   "source": [
    "# Install the kmodes package\n",
    "%pip install kmodes\n",
    "\n",
    "from kmodes.kmodes import KModes"
   ]
  },
  {
   "cell_type": "code",
   "execution_count": 6,
   "metadata": {},
   "outputs": [],
   "source": [
    "drop_cols = ['CustomerID']"
   ]
  },
  {
   "cell_type": "code",
   "execution_count": 16,
   "metadata": {},
   "outputs": [
    {
     "name": "stdout",
     "output_type": "stream",
     "text": [
      "Initialization method and algorithm are deterministic. Setting n_init to 1.\n",
      "Init: initializing centroids\n",
      "Init: initializing clusters\n",
      "Starting iterations...\n",
      "Run 1, iteration: 1/100, moves: 0, cost: 22.0\n",
      "   Respondent_ID      Gender Age_Group Product_Preference Satisfaction_Level  \\\n",
      "0              1      Female     18-25          Product A          Satisfied   \n",
      "1              2        Male     26-35          Product B     Very Satisfied   \n",
      "2              3  Non-Binary     18-25          Product A          Satisfied   \n",
      "3              4      Female     36-45          Product C            Neutral   \n",
      "4              5        Male     26-35          Product B        Unsatisfied   \n",
      "5              6      Female     18-25          Product A          Satisfied   \n",
      "6              7        Male     46-55          Product C            Neutral   \n",
      "7              8      Female     26-35          Product B     Very Satisfied   \n",
      "8              9        Male     36-45          Product C          Satisfied   \n",
      "9             10      Female     46-55          Product A        Unsatisfied   \n",
      "\n",
      "   Cluster  \n",
      "0        0  \n",
      "1        1  \n",
      "2        0  \n",
      "3        0  \n",
      "4        1  \n",
      "5        0  \n",
      "6        1  \n",
      "7        1  \n",
      "8        0  \n",
      "9        0  \n"
     ]
    }
   ],
   "source": [
    "if 'df' in globals():\n",
    "\tkm = KModes(n_clusters=2, init='Cao', n_init=5, verbose=1, random_state=42)\n",
    "\tclusters = km.fit_predict(df)\n",
    "\n",
    "\tdf['Cluster'] = clusters\n",
    "\n",
    "\tprint(df)"
   ]
  }
 ],
 "metadata": {
  "kernelspec": {
   "display_name": "base",
   "language": "python",
   "name": "python3"
  },
  "language_info": {
   "codemirror_mode": {
    "name": "ipython",
    "version": 3
   },
   "file_extension": ".py",
   "mimetype": "text/x-python",
   "name": "python",
   "nbconvert_exporter": "python",
   "pygments_lexer": "ipython3",
   "version": "3.12.2"
  }
 },
 "nbformat": 4,
 "nbformat_minor": 2
}
